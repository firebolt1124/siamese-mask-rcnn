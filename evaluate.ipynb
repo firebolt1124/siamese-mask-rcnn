{
  "nbformat": 4,
  "nbformat_minor": 0,
  "metadata": {
    "colab": {
      "name": "Evaluation.ipynb",
      "provenance": []
    },
    "kernelspec": {
      "name": "python3",
      "display_name": "Python 3"
    },
    "language_info": {
      "name": "python"
    }
  },
  "cells": [
    {
      "cell_type": "code",
      "metadata": {
        "id": "gJ9a5FV4n5KM"
      },
      "source": [
        "!pip uninstall tensorflow \n",
        "!pip install tensorflow-gpu==1.14\n",
        "\n",
        "!pip uninstall keras \n",
        "!pip install keras==2.2.4"
      ],
      "execution_count": null,
      "outputs": []
    },
    {
      "cell_type": "code",
      "metadata": {
        "id": "DAFOQTJ1Seh8"
      },
      "source": [
        "%load_ext autoreload\n",
        "%autoreload 2\n",
        "%matplotlib inline\n",
        "#%load_ext line_profiler\n",
        "\n",
        "import tensorflow as tf\n",
        "tf.compat.v1.logging.set_verbosity(tf.compat.v1.logging.INFO)\n",
        "sess_config = tf.compat.v1.ConfigProto()\n",
        "\n",
        "import sys\n",
        "import os\n",
        "\n",
        "COCO_DATA = 'data/coco'\n",
        "MASK_RCNN_MODEL_PATH = 'lib/Mask_RCNN/'\n",
        "\n",
        "if MASK_RCNN_MODEL_PATH not in sys.path:\n",
        "    sys.path.append(MASK_RCNN_MODEL_PATH)\n",
        "    \n",
        "from lib.Mask_RCNN.samples.coco import coco\n",
        "from lib.Mask_RCNN.mrcnn import utils\n",
        "from lib.Mask_RCNN.mrcnn import model as modellib\n",
        "from lib.Mask_RCNN.mrcnn import visualize\n",
        "    \n",
        "from lib import utils as siamese_utils\n",
        "from lib import model as siamese_model\n",
        "from lib import config as siamese_config\n",
        "   \n",
        "import time\n",
        "import datetime\n",
        "import random\n",
        "import numpy as np\n",
        "import skimage.io\n",
        "import imgaug\n",
        "import pickle\n",
        "import matplotlib.pyplot as plt\n",
        "from collections import OrderedDict\n",
        "\n",
        "# Root directory of the project\n",
        "ROOT_DIR = os.getcwd()\n",
        "\n",
        "# Directory to save logs and trained model\n",
        "MODEL_DIR = os.path.join(ROOT_DIR, \"logs\")"
      ],
      "execution_count": null,
      "outputs": []
    },
    {
      "cell_type": "code",
      "metadata": {
        "id": "5yxjo90eSnnd"
      },
      "source": [
        "train_classes = np.array(range(1,81))\n",
        "\n",
        "# Load COCO/val dataset\n",
        "coco_val = siamese_utils.IndexedCocoDataset()\n",
        "coco_object = coco_val.load_coco(COCO_DATA, \"val\", year=\"2017\", return_coco=True, auto_download = True)\n",
        "coco_val.prepare()\n",
        "coco_val.build_indices()\n",
        "coco_val.ACTIVE_CLASSES = train_classes"
      ],
      "execution_count": null,
      "outputs": []
    },
    {
      "cell_type": "code",
      "metadata": {
        "id": "HDp3ZRypSs2D"
      },
      "source": [
        "class SmallEvalConfig(siamese_config.Config):\n",
        "    # Set batch size to 1 since we'll be running inference on\n",
        "    # one image at a time. Batch size = GPU_COUNT * IMAGES_PER_GPU\n",
        "    GPU_COUNT = 1\n",
        "    IMAGES_PER_GPU = 1\n",
        "    NUM_CLASSES = 1 + 1\n",
        "    NAME = 'coco'\n",
        "    EXPERIMENT = 'evaluation'\n",
        "    CHECKPOINT_DIR = 'checkpoints/'\n",
        "    NUM_TARGETS = 1\n",
        "    \n",
        "class LargeEvalConfig(siamese_config.Config):\n",
        "    # Set batch size to 1 since we'll be running inference on\n",
        "    # one image at a time. Batch size = GPU_COUNT * IMAGES_PER_GPU\n",
        "    GPU_COUNT = 1\n",
        "    IMAGES_PER_GPU = 1\n",
        "    NUM_CLASSES = 1 + 1\n",
        "    NAME = 'coco'\n",
        "    EXPERIMENT = 'evaluation'\n",
        "    CHECKPOINT_DIR = 'checkpoints/'\n",
        "    NUM_TARGETS = 1\n",
        "    \n",
        "    # Large image sizes\n",
        "    TARGET_MAX_DIM = 192\n",
        "    TARGET_MIN_DIM = 150\n",
        "    IMAGE_MIN_DIM = 800\n",
        "    IMAGE_MAX_DIM = 1024\n",
        "    # Large model size\n",
        "    FPN_CLASSIF_FC_LAYERS_SIZE = 1024\n",
        "    FPN_FEATUREMAPS = 256\n",
        "    # Large number of rois at all stages\n",
        "    RPN_ANCHOR_STRIDE = 1\n",
        "    RPN_TRAIN_ANCHORS_PER_IMAGE = 256\n",
        "    POST_NMS_ROIS_TRAINING = 2000\n",
        "    POST_NMS_ROIS_INFERENCE = 1000\n",
        "    TRAIN_ROIS_PER_IMAGE = 200\n",
        "    DETECTION_MAX_INSTANCES = 100\n",
        "    MAX_GT_INSTANCES = 100"
      ],
      "execution_count": null,
      "outputs": []
    },
    {
      "cell_type": "code",
      "metadata": {
        "id": "4DE69pvZSyVc"
      },
      "source": [
        "# The small model trains on a single GPU and runs much faster.\n",
        "# The large model is the same we used in our experiments but needs multiple GPUs and more time for training.\n",
        "model_size = 'small' # or 'large'\n",
        "\n",
        "if model_size == 'small':\n",
        "    config = SmallEvalConfig()\n",
        "elif model_size == 'large':\n",
        "    config = LargeEvalConfig()\n",
        "    \n",
        "config.display()"
      ],
      "execution_count": null,
      "outputs": []
    },
    {
      "cell_type": "code",
      "metadata": {
        "id": "V-5H-J6ZS28T"
      },
      "source": [
        "# Provide training schedule of the model\n",
        "# When evaluationg intermediate steps the tranining schedule must be provided\n",
        "train_schedule = OrderedDict()\n",
        "if model_size == 'small':\n",
        "    train_schedule[1] = {\"learning_rate\": config.LEARNING_RATE, \"layers\": \"heads\"}\n",
        "    train_schedule[120] = {\"learning_rate\": config.LEARNING_RATE, \"layers\": \"4+\"}\n",
        "    train_schedule[160] = {\"learning_rate\": config.LEARNING_RATE/10, \"layers\": \"all\"}\n",
        "elif model_size == 'large':\n",
        "    train_schedule[1] = {\"learning_rate\": config.LEARNING_RATE, \"layers\": \"heads\"}\n",
        "    train_schedule[240] = {\"learning_rate\": config.LEARNING_RATE, \"layers\": \"all\"}\n",
        "    train_schedule[320] = {\"learning_rate\": config.LEARNING_RATE/10, \"layers\": \"all\"}\n",
        "\n",
        "# Select checkpoint\n",
        "if model_size == 'small':\n",
        "    checkpoint = 'checkpoints/small_siamese_mrcnn_0160.h5'\n",
        "elif model_size == 'large':\n",
        "    checkpoint = 'checkpoints/large_siamese_mrcnn_coco_full_0320.h5'"
      ],
      "execution_count": null,
      "outputs": []
    },
    {
      "cell_type": "code",
      "metadata": {
        "id": "DhyaJIEOZthy"
      },
      "source": [
        "# Load and evaluate model\n",
        "# Create model object in inference mode.\n",
        "model = siamese_model.SiameseMaskRCNN(mode=\"inference\", model_dir=MODEL_DIR, config=config)\n",
        "model.load_checkpoint(checkpoint, training_schedule=train_schedule)\n",
        "# Evaluate only active classes\n",
        "active_class_idx = np.array(coco_val.ACTIVE_CLASSES) - 1\n",
        "# Evaluate on the validation set\n",
        "print('starting evaluation ...')\n",
        "siamese_utils.evaluate_dataset(model, coco_val, coco_object, eval_type=\"bbox\", \n",
        "                 dataset_type='coco', limit=10, image_ids=None, \n",
        "                 verbose=1, return_results = True)"
      ],
      "execution_count": null,
      "outputs": []
    },
    {
      "cell_type": "code",
      "metadata": {
        "id": "3HjxYmENhq_T"
      },
      "source": [
        "## TO VISULAISE THE MASKS ON IMAGE FOR A SPECIFIC CATEGORY\n",
        "\n",
        "# Create model object in inference mode.\n",
        "model = siamese_model.SiameseMaskRCNN(mode=\"inference\", model_dir=MODEL_DIR, config=config)\n",
        "model.load_checkpoint(checkpoint, training_schedule=train_schedule)\n",
        "\n",
        "# Select category\n",
        "category = 1\n",
        "image_id = np.random.choice(coco_val.category_image_index[category])   \n",
        "# Load target\n",
        "target = siamese_utils.get_one_target(category, coco_val, config)\n",
        "# Load image\n",
        "image = coco_val.load_image(image_id)\n",
        "print(\"image_id\", image_id)\n",
        "\n",
        "\n",
        "# Run detection\n",
        "results = model.detect([[target]], [image], verbose=1)\n",
        "r = results[0]\n",
        "# Display results\n",
        "siamese_utils.display_results(target, image, r['rois'], r['masks'], r['class_ids'], r['scores'])"
      ],
      "execution_count": null,
      "outputs": []
    }
  ]
}
